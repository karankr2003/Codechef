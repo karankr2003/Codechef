{
  "nbformat": 4,
  "nbformat_minor": 0,
  "metadata": {
    "colab": {
      "provenance": [],
      "authorship_tag": "ABX9TyOkMjJC5D64J3j+LgbwcskI",
      "include_colab_link": true
    },
    "kernelspec": {
      "name": "python3",
      "display_name": "Python 3"
    },
    "language_info": {
      "name": "python"
    }
  },
  "cells": [
    {
      "cell_type": "markdown",
      "metadata": {
        "id": "view-in-github",
        "colab_type": "text"
      },
      "source": [
        "<a href=\"https://colab.research.google.com/github/karankr2003/Codechef/blob/main/Machine_Learning_1st_29_5_2023.ipynb\" target=\"_parent\"><img src=\"https://colab.research.google.com/assets/colab-badge.svg\" alt=\"Open In Colab\"/></a>"
      ]
    },
    {
      "cell_type": "code",
      "source": [
        "print(\"Welcome to ML\")"
      ],
      "metadata": {
        "colab": {
          "base_uri": "https://localhost:8080/"
        },
        "id": "0DkKiQl59XZg",
        "outputId": "e7ffc19f-4cd3-46a5-b61b-45266c476555"
      },
      "execution_count": 1,
      "outputs": [
        {
          "output_type": "stream",
          "name": "stdout",
          "text": [
            "Welcome to ML\n"
          ]
        }
      ]
    },
    {
      "cell_type": "code",
      "source": [
        "a=10\n",
        "print(\"a\")"
      ],
      "metadata": {
        "colab": {
          "base_uri": "https://localhost:8080/"
        },
        "id": "N8wMyqVFArvs",
        "outputId": "ae024ed3-7cc6-4d1e-942b-dbacd21858e8"
      },
      "execution_count": 2,
      "outputs": [
        {
          "output_type": "stream",
          "name": "stdout",
          "text": [
            "a\n"
          ]
        }
      ]
    },
    {
      "cell_type": "code",
      "source": [
        "a=10\n",
        "b=5\n",
        "print(\"Sum of a and b is \", a+b)"
      ],
      "metadata": {
        "colab": {
          "base_uri": "https://localhost:8080/"
        },
        "id": "xLoOCkw3AynL",
        "outputId": "1f1dbda1-6a3d-4154-fbaa-f5921150a01f"
      },
      "execution_count": 3,
      "outputs": [
        {
          "output_type": "stream",
          "name": "stdout",
          "text": [
            "Sum of a and b is  15\n"
          ]
        }
      ]
    },
    {
      "cell_type": "code",
      "source": [
        "a=5\n",
        "b=10 \n",
        "print( \"the value of a and b are: \", a, b)"
      ],
      "metadata": {
        "colab": {
          "base_uri": "https://localhost:8080/"
        },
        "id": "uTYMnDsyA-5f",
        "outputId": "eb9c1d42-b253-4500-af0f-e79fbffe22d6"
      },
      "execution_count": 4,
      "outputs": [
        {
          "output_type": "stream",
          "name": "stdout",
          "text": [
            "the value of a and b are:  5 10\n"
          ]
        }
      ]
    },
    {
      "cell_type": "code",
      "source": [
        "n=int(input(\"Enter a number: \"))\n",
        "print(\"The entered number is \", n)"
      ],
      "metadata": {
        "colab": {
          "base_uri": "https://localhost:8080/"
        },
        "id": "NigXzh4dBPZx",
        "outputId": "fba0b97b-fa91-4f41-df59-b4817b9ce95f"
      },
      "execution_count": 5,
      "outputs": [
        {
          "output_type": "stream",
          "name": "stdout",
          "text": [
            "Enter a number: 10\n",
            "The entered number is  10\n"
          ]
        }
      ]
    },
    {
      "cell_type": "code",
      "source": [
        "a=6\n",
        "b=8.0\n",
        "print(type(a))\n",
        "print(type(b))\n"
      ],
      "metadata": {
        "colab": {
          "base_uri": "https://localhost:8080/"
        },
        "id": "GOgNs9HoCOfQ",
        "outputId": "c260ddc0-0fed-45cf-deee-b40852eb9830"
      },
      "execution_count": 6,
      "outputs": [
        {
          "output_type": "stream",
          "name": "stdout",
          "text": [
            "<class 'int'>\n",
            "<class 'float'>\n"
          ]
        }
      ]
    },
    {
      "cell_type": "code",
      "source": [
        "#numeric Data type\n",
        "a=10\n",
        "b=2\n",
        "print(a+b)\n",
        "print(a-b)\n",
        "print(a/b)\n",
        "print(a*b)\n",
        "print(a%b)\n",
        "\n",
        "import math\n",
        "c=math.pow(2,5)\n",
        "print(c)\n",
        "\n",
        "\n",
        "\n"
      ],
      "metadata": {
        "colab": {
          "base_uri": "https://localhost:8080/"
        },
        "id": "uB01-hwfE-mp",
        "outputId": "10431935-6fe0-4819-8298-ab0f441f1a75"
      },
      "execution_count": 7,
      "outputs": [
        {
          "output_type": "stream",
          "name": "stdout",
          "text": [
            "12\n",
            "8\n",
            "5.0\n",
            "20\n",
            "0\n",
            "32.0\n"
          ]
        }
      ]
    },
    {
      "cell_type": "code",
      "source": [
        "a=5\n",
        "b=10\n",
        "print(a>b)\n",
        "print(a<b)\n",
        "print(a>=b)\n",
        "\n",
        "\n"
      ],
      "metadata": {
        "colab": {
          "base_uri": "https://localhost:8080/"
        },
        "id": "40TRrm5eHeau",
        "outputId": "39802807-071e-4f5a-b478-a215fbc9f530"
      },
      "execution_count": 8,
      "outputs": [
        {
          "output_type": "stream",
          "name": "stdout",
          "text": [
            "False\n",
            "True\n",
            "False\n"
          ]
        }
      ]
    },
    {
      "cell_type": "code",
      "source": [
        "a=4\n",
        "print(a<<2)"
      ],
      "metadata": {
        "colab": {
          "base_uri": "https://localhost:8080/"
        },
        "id": "AsUU3I9iIp1z",
        "outputId": "3ffaabe0-f0bf-4d88-b054-d1fabc9a40c4"
      },
      "execution_count": 9,
      "outputs": [
        {
          "output_type": "stream",
          "name": "stdout",
          "text": [
            "16\n"
          ]
        }
      ]
    },
    {
      "cell_type": "code",
      "source": [],
      "metadata": {
        "id": "A9yjx0bUItxN"
      },
      "execution_count": 9,
      "outputs": []
    },
    {
      "cell_type": "code",
      "source": [
        "s=\"hello\"\n",
        "print(s)\n",
        "print(len(s))"
      ],
      "metadata": {
        "colab": {
          "base_uri": "https://localhost:8080/"
        },
        "id": "YJZVXHP8It0e",
        "outputId": "25fa478c-be29-48ed-fa3a-4b57786127bd"
      },
      "execution_count": 10,
      "outputs": [
        {
          "output_type": "stream",
          "name": "stdout",
          "text": [
            "hello\n",
            "5\n"
          ]
        }
      ]
    },
    {
      "cell_type": "code",
      "source": [
        "#split\n",
        "s='Name, 5, 50, Alvas'\n",
        "l=s.split(',')\n",
        "print(l)"
      ],
      "metadata": {
        "colab": {
          "base_uri": "https://localhost:8080/"
        },
        "id": "hqIXSAnnKsDQ",
        "outputId": "df5e076b-328a-472a-ce88-e79d17e8b6f3"
      },
      "execution_count": 11,
      "outputs": [
        {
          "output_type": "stream",
          "name": "stdout",
          "text": [
            "['Name', ' 5', ' 50', ' Alvas']\n"
          ]
        }
      ]
    },
    {
      "cell_type": "code",
      "source": [],
      "metadata": {
        "id": "ZWgUjHZgotQR"
      },
      "execution_count": 11,
      "outputs": []
    },
    {
      "cell_type": "code",
      "source": [
        "#strip\n",
        "s='aBBca'\n",
        "t=s.strip('ab')\n",
        "print(t)"
      ],
      "metadata": {
        "colab": {
          "base_uri": "https://localhost:8080/"
        },
        "id": "PfKR2pkOMFRV",
        "outputId": "20655b7b-0868-445a-8453-ca089609ccca"
      },
      "execution_count": 12,
      "outputs": [
        {
          "output_type": "stream",
          "name": "stdout",
          "text": [
            "BBc\n"
          ]
        }
      ]
    },
    {
      "cell_type": "code",
      "source": [
        "#substring\n",
        "s='Helloworld'\n",
        "sub_st1=\"low\"\n",
        "sub_st=\"wld\"\n",
        "print(sub_st1 in s)\n",
        "print(sub_st in s)\n",
        "\n",
        "#index\n",
        "print(s.index('e'))\n",
        "print(s.index('d'))\n",
        "print(s.index('low'))\n",
        "print(s.count('l'))\n"
      ],
      "metadata": {
        "colab": {
          "base_uri": "https://localhost:8080/"
        },
        "id": "ELRVHF4hMuym",
        "outputId": "d64d683c-ca73-4fa7-851d-aba85d521fe6"
      },
      "execution_count": 13,
      "outputs": [
        {
          "output_type": "stream",
          "name": "stdout",
          "text": [
            "True\n",
            "False\n",
            "1\n",
            "9\n",
            "3\n",
            "3\n"
          ]
        }
      ]
    },
    {
      "cell_type": "code",
      "source": [
        "#slicing\n",
        "s='alvasaiml'\n",
        "print(s[0],s[5],s[-1],s[4],s[-2])\n",
        "\n",
        "print(s[0:])\n",
        "print(s[5:])\n",
        "print(s[0:5])\n",
        "print(s[0:2])\n",
        "print(s[2:1])\n",
        "print(s[-5:-3])\n",
        "print(s[0:5:2])\n",
        "print(s[0:5:3])\n",
        "print(s[0:5:-2])\n",
        "print(s[0:-5:-2])\n",
        "\n",
        "print(s[-1:])\n",
        "print(s[-1::-1])\n",
        "print(s[::-1])"
      ],
      "metadata": {
        "colab": {
          "base_uri": "https://localhost:8080/"
        },
        "id": "e_wgNHtyOA2D",
        "outputId": "e53b83f8-4e38-4569-ddfa-327eedad88a6"
      },
      "execution_count": 14,
      "outputs": [
        {
          "output_type": "stream",
          "name": "stdout",
          "text": [
            "a a l s m\n",
            "alvasaiml\n",
            "aiml\n",
            "alvas\n",
            "al\n",
            "\n",
            "sa\n",
            "avs\n",
            "aa\n",
            "\n",
            "\n",
            "l\n",
            "lmiasavla\n",
            "lmiasavla\n"
          ]
        }
      ]
    },
    {
      "cell_type": "code",
      "source": [],
      "metadata": {
        "id": "bhHutqZjQNz_"
      },
      "execution_count": 14,
      "outputs": []
    },
    {
      "cell_type": "code",
      "source": [],
      "metadata": {
        "id": "VjmAUUrBovAn"
      },
      "execution_count": 14,
      "outputs": []
    }
  ]
}